{
  "nbformat": 4,
  "nbformat_minor": 0,
  "metadata": {
    "colab": {
      "provenance": [],
      "toc_visible": true,
      "authorship_tag": "ABX9TyPifmTIrX6Dg5WnIMUabETN",
      "include_colab_link": true
    },
    "kernelspec": {
      "name": "python3",
      "display_name": "Python 3"
    },
    "language_info": {
      "name": "python"
    }
  },
  "cells": [
    {
      "cell_type": "markdown",
      "metadata": {
        "id": "view-in-github",
        "colab_type": "text"
      },
      "source": [
        "<a href=\"https://colab.research.google.com/github/Sumitra-03/ppp/blob/main/ipynb_git.ipynb\" target=\"_parent\"><img src=\"https://colab.research.google.com/assets/colab-badge.svg\" alt=\"Open In Colab\"/></a>"
      ]
    },
    {
      "cell_type": "code",
      "execution_count": 2,
      "metadata": {
        "colab": {
          "base_uri": "https://localhost:8080/"
        },
        "id": "8wMfW4Vi_qCp",
        "outputId": "353c59f4-78d5-430f-9058-982f9c3774a3"
      },
      "outputs": [
        {
          "output_type": "stream",
          "name": "stdout",
          "text": [
            "Cloning into 'Getting-Long-Term-Daily-Google-Trends-Data.ipynb'...\n",
            "remote: Enumerating objects: 37, done.\u001b[K\n",
            "remote: Total 37 (delta 0), reused 0 (delta 0), pack-reused 37 (from 1)\u001b[K\n",
            "Receiving objects: 100% (37/37), 23.98 KiB | 3.00 MiB/s, done.\n",
            "Resolving deltas: 100% (16/16), done.\n"
          ]
        }
      ],
      "source": [
        "!git clone https://github.com/PhilippeCodes/Getting-Long-Term-Daily-Google-Trends-Data.ipynb.git"
      ]
    },
    {
      "cell_type": "code",
      "source": [
        "#อบรม python วันที่ 27 พย. 67\n",
        "#644245022 สุมิตรา สืบเมืองซ้าย หมู่เรียน 64/37\n"
      ],
      "metadata": {
        "id": "E7-SVHB7Tsys"
      },
      "execution_count": null,
      "outputs": []
    },
    {
      "cell_type": "code",
      "source": [
        "#ทดสอบรับค่า input\n",
        "name = input(\"กรุณากรอกชื่อ\")\n",
        "print(\"ยินดีต้อนรับ\"+name)"
      ],
      "metadata": {
        "colab": {
          "base_uri": "https://localhost:8080/"
        },
        "id": "sIAGFWvKUK4J",
        "outputId": "a60ed535-b27e-48c2-85e1-f65a2154012e"
      },
      "execution_count": 3,
      "outputs": [
        {
          "output_type": "stream",
          "name": "stdout",
          "text": [
            "กรุณากรอกชื่อสุมิตรา\n",
            "ยินดีต้อนรับสุมิตรา\n"
          ]
        }
      ]
    },
    {
      "cell_type": "code",
      "source": [
        "#ทดสอบรับค่า มาเพื่อทำการคำนวณ\n",
        "num1=int(input('ตัวเลขแรก : '))\n",
        "num2=int(input('ตัวเลชที่สอง : '))\n",
        "total=num1+num2\n",
        "print(\"ผลการบวก เท่ากับ\"+str(total))\n"
      ],
      "metadata": {
        "colab": {
          "base_uri": "https://localhost:8080/"
        },
        "id": "kLm3vWy6UtbJ",
        "outputId": "1ddc266e-559e-4e90-f33c-a65ce8f1fe17"
      },
      "execution_count": 7,
      "outputs": [
        {
          "output_type": "stream",
          "name": "stdout",
          "text": [
            "ตัวเลขแรก : 55\n",
            "ตัวเลชที่สอง : 55\n",
            "ผลการบวก เท่ากับ110\n"
          ]
        }
      ]
    },
    {
      "cell_type": "code",
      "source": [
        "#ให้รับค่า เข้ามาเพื่อคำนวณค่า BMI\n",
        "# Body Mass Index (BMI) มีสูตรการคำนวณ ช น้ำหนักตัว[Kg] / (ส่วนสูง [m] ยกกำลังสอง)\n",
        "#กำหนดรับค่า Input น้ำหนักตัว กับ ส่วนสูง\n",
        "W = float(input(\"กรุณากรอกค่าน้ำหนัก กิโลกรัม :\"))\n",
        "H = float(input(\"กรุณากรอกค่าส่วนสูง ซม. :\"))\n",
        "\n",
        "#เขียนสมการเพื่อคำนวณค่า BMI\n",
        "BMI = W / (H**2)\n",
        "print(\"ค่า BMI ของคุณ = \"+str(BMI))"
      ],
      "metadata": {
        "colab": {
          "base_uri": "https://localhost:8080/"
        },
        "id": "XTTDsrlGZyQQ",
        "outputId": "ee5d9bd0-8fad-4a1d-a41e-c5aaed0b2211"
      },
      "execution_count": 10,
      "outputs": [
        {
          "output_type": "stream",
          "name": "stdout",
          "text": [
            "กรุณากรอกค่าน้ำหนัก กิโลกรัม :80\n",
            "กรุณากรอกค่าส่วนสูง ซม. :157\n",
            "ค่า BMI ของคุณ = 0.0032455677715120287\n"
          ]
        }
      ]
    },
    {
      "cell_type": "code",
      "source": [
        "#คำนวณปริมาณคอนกรีดที่ต้องใช้\n",
        "#วิธีคำนวณคอนกรีดสำหรับ \"เทพื้น\"\n",
        "#ในการคำนวณปริมาณคอนกรีดที่ใช้เทพื้นนั้นมีสูตรคำนวณง่ายๆดังนี้\n",
        "#ปริมาณที่ต้องใช้(คิว) = พื้นที่(ตารางเมตร) x ความหนา(เซนติเมต) x 0.01\n",
        "W = float(input(\"กรุณากรอกความกว้างของพื้นที่ เมตร : \"))\n",
        "L = float(input(\"กรุณากรอกความยาวของพื้นที่ เมตร : \"))\n",
        "H = float(input(\"กรุณากรอกความหนาของพื้นที่ต้องการ เซนติเมตร : \"))\n",
        "\n",
        "total = W*L*H*0.01\n",
        "print(\"ปริมาณคอนกรีดที่ต้องใช้ เท่ากับ \"+str(total)+\"คิว\")\n",
        "total = total+(total*0.1)\n",
        "print(\"ปริมาณคอนกรีดที่ต้องใช้หลังจากเผื่อไปอีก 10% เท่ากับ \"+str(total)+\"คิว\")\n",
        "\n"
      ],
      "metadata": {
        "colab": {
          "base_uri": "https://localhost:8080/"
        },
        "id": "6a24RGj7fEEv",
        "outputId": "d4577846-0b7a-4b5b-c397-1039f2d7bf46"
      },
      "execution_count": 12,
      "outputs": [
        {
          "output_type": "stream",
          "name": "stdout",
          "text": [
            "กรุณากรอกความกว้างของพื้นที่ เมตร : 220\n",
            "กรุณากรอกความยาวของพื้นที่ เมตร : 1554\n",
            "กรุณากรอกความหนาของพื้นที่ต้องการ เซนติเมตร : 12.2\n",
            "ปริมาณคอนกรีดที่ต้องใช้ เท่ากับ 41709.35999999999คิว\n",
            "ปริมาณคอนกรีดที่ต้องใช้หลังจากเผื่อไปอีก 10% เท่ากับ 45880.295999999995คิว\n"
          ]
        }
      ]
    },
    {
      "cell_type": "code",
      "source": [
        "#การใช้ if else\n",
        "a=50\n",
        "b=70\n",
        "if a>b:\n",
        "  print(\"a มากกว่า b\")\n",
        "else:\n",
        "  print(\"a น้อยกว่า b\")"
      ],
      "metadata": {
        "colab": {
          "base_uri": "https://localhost:8080/"
        },
        "id": "twZ11grCkA28",
        "outputId": "249170dc-df6a-4ea7-cf6b-40f66adce1b6"
      },
      "execution_count": 13,
      "outputs": [
        {
          "output_type": "stream",
          "name": "stdout",
          "text": [
            "a น้อยกว่า b\n"
          ]
        }
      ]
    }
  ]
}